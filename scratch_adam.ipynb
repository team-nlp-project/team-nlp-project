{
 "cells": [
  {
   "cell_type": "code",
   "execution_count": 1,
   "id": "6b06d615-9b8f-488b-90b9-210db0e3dc30",
   "metadata": {},
   "outputs": [],
   "source": [
    "import requests\n",
    "from bs4 import BeautifulSoup\n",
    "import pandas as pd\n",
    "from time import strftime\n",
    "import numpy as np\n",
    "\n",
    "import scrape_url_list as s\n",
    "import acquire as a\n",
    "import prepare as p\n",
    "\n",
    "# ignore warnings\n",
    "import warnings\n",
    "warnings.filterwarnings(\"ignore\")"
   ]
  },
  {
   "cell_type": "markdown",
   "id": "b2eb5c54-53ee-4b0e-95ec-782db841e650",
   "metadata": {},
   "source": [
    "---"
   ]
  },
  {
   "cell_type": "code",
   "execution_count": 2,
   "id": "203d22c2-cc35-4b53-bae6-537fa74f8369",
   "metadata": {},
   "outputs": [],
   "source": [
    "# links = s.get_cached_links()"
   ]
  },
  {
   "cell_type": "code",
   "execution_count": 3,
   "id": "7021c39a-536d-4991-830d-b35b6d33f7c4",
   "metadata": {},
   "outputs": [],
   "source": [
    "# links = links[:-2]"
   ]
  },
  {
   "cell_type": "markdown",
   "id": "5e6c824e-99f0-4bd0-b671-8eec5afa8cdb",
   "metadata": {},
   "source": [
    "---"
   ]
  },
  {
   "cell_type": "code",
   "execution_count": 4,
   "id": "6ba72a39-9a78-45a6-bb76-6c4bd3ba8fb5",
   "metadata": {},
   "outputs": [],
   "source": [
    "# link_list = []\n",
    "# for link in links:\n",
    "#     response = requests.get(link, headers={\"user-agent\": \"Codeup DS\"})\n",
    "#     link_list.append({'link' : link, 'status_code' : response.status_code})"
   ]
  },
  {
   "cell_type": "code",
   "execution_count": 5,
   "id": "ecc85927-f745-45ac-9682-29c23cb32206",
   "metadata": {},
   "outputs": [],
   "source": [
    "# df = pd.DataFrame(link_list)"
   ]
  },
  {
   "cell_type": "code",
   "execution_count": 6,
   "id": "5615e996-dee9-4a92-9625-ccede2538c5a",
   "metadata": {},
   "outputs": [],
   "source": [
    "# df.head()"
   ]
  },
  {
   "cell_type": "code",
   "execution_count": 7,
   "id": "29cd3d3f-1b80-451d-94dc-37d00716fd5f",
   "metadata": {},
   "outputs": [],
   "source": [
    "# df[df.status_code != 200]"
   ]
  },
  {
   "cell_type": "markdown",
   "id": "e6c4fd69-3b64-41db-ae9e-dc29c05249b7",
   "metadata": {},
   "source": [
    "#### Takeaways from acquire:\n",
    "- The urls were fine when making requests, all returned status code of 200\n",
    "- But when I tried to use Zach's acquire module to get the needed content, 5 links returned `404` errors\n",
    "    - Still not sure exaxtly why, but must have to do with the scopes associated with my personal access token and auther permissions or someting\n",
    "    - Here are the ones that didn't work:\n",
    "        - `aikorea/awesome-rl/`\n",
    "        - `JoseDeFreitas/awesome-youtubers#machine-learning`\n",
    "        - `Developer-Y/cs-video-courses#artificial-intelligence`\n",
    "        - `Vedenin/useful-java-links#ii-databases-search-engines-big-data-and-machine-learning`\n",
    "        - `alirezadir/machine-learning-interview-enlightener/blob/main/README.md`"
   ]
  },
  {
   "cell_type": "code",
   "execution_count": 8,
   "id": "e2d7fc04-0e3a-474a-a7c3-7f7c219da277",
   "metadata": {},
   "outputs": [],
   "source": [
    "# df = pd.read_json('data.json')"
   ]
  },
  {
   "cell_type": "code",
   "execution_count": 9,
   "id": "dcd37a03-831c-4e71-9425-7aa7c5c02ca2",
   "metadata": {},
   "outputs": [],
   "source": [
    "# df.head()"
   ]
  },
  {
   "cell_type": "code",
   "execution_count": 10,
   "id": "4991ccc5-e736-4df1-9015-3fc5f1b6a3ca",
   "metadata": {},
   "outputs": [],
   "source": [
    "# df.shape"
   ]
  },
  {
   "cell_type": "code",
   "execution_count": 11,
   "id": "977f7e6c-cac8-4c4a-a3a6-4bd035444690",
   "metadata": {},
   "outputs": [],
   "source": [
    "# df.language.value_counts(dropna=False)"
   ]
  },
  {
   "cell_type": "code",
   "execution_count": 12,
   "id": "ce4ac40f-6f75-4600-ad19-20b68825b18d",
   "metadata": {},
   "outputs": [],
   "source": [
    "# df.loc[0 ,'readme_contents']"
   ]
  },
  {
   "cell_type": "markdown",
   "id": "912abbfb-bbd8-46d3-9871-a49163deae12",
   "metadata": {},
   "source": [
    "---"
   ]
  },
  {
   "cell_type": "markdown",
   "id": "ef803523-8ca0-48aa-8371-63f6da073ca2",
   "metadata": {},
   "source": [
    "Get some new links"
   ]
  },
  {
   "cell_type": "code",
   "execution_count": 13,
   "id": "b536b5cb-a564-42d7-a801-03c01bb9b00b",
   "metadata": {},
   "outputs": [],
   "source": [
    "# response = requests.get('https://github.com/trending', headers={\"user-agent\": \"Codeup DS\"})\n",
    "# soup = BeautifulSoup(response.text)"
   ]
  },
  {
   "cell_type": "code",
   "execution_count": 14,
   "id": "93b8670f-e204-48fc-b89b-1dab1943d6b9",
   "metadata": {},
   "outputs": [],
   "source": [
    "# len(soup.select('.Box-row'))"
   ]
  },
  {
   "cell_type": "code",
   "execution_count": 15,
   "id": "1d0d8f2a-6c45-45c2-9e01-d0d9cc5e440e",
   "metadata": {},
   "outputs": [],
   "source": [
    "# [link.attrs['href'] for link in soup.select_one('.Box').select('a')]"
   ]
  },
  {
   "cell_type": "code",
   "execution_count": 16,
   "id": "f3b3edf7-fa46-49e4-8e7d-d3665c4f6500",
   "metadata": {},
   "outputs": [],
   "source": [
    "# soup.select_one('.Box').select('a')"
   ]
  },
  {
   "cell_type": "code",
   "execution_count": 17,
   "id": "4481fcf7-83a1-41e9-bd59-eea8c1c3d116",
   "metadata": {},
   "outputs": [],
   "source": [
    "# soup.select('.Box-row')[0].select_one('.h3.lh-condensed').a.attrs['href']"
   ]
  },
  {
   "cell_type": "code",
   "execution_count": 18,
   "id": "c03c5714-7faa-445f-9822-c0fdaf201a79",
   "metadata": {},
   "outputs": [],
   "source": [
    "# boxes = soup.select('.Box-row')"
   ]
  },
  {
   "cell_type": "code",
   "execution_count": 19,
   "id": "5877f901-22c1-4ba1-adb1-41874e47f389",
   "metadata": {},
   "outputs": [],
   "source": [
    "# len(boxes)"
   ]
  },
  {
   "cell_type": "code",
   "execution_count": 20,
   "id": "11ec9e2c-0c58-4d14-83e3-0b9c781ddf11",
   "metadata": {},
   "outputs": [],
   "source": [
    "# link_list = []\n",
    "# for box in boxes:\n",
    "#     link = box.select_one('.h3.lh-condensed').a.attrs['href']\n",
    "#     link_list.append(link)"
   ]
  },
  {
   "cell_type": "code",
   "execution_count": 21,
   "id": "e8fcc1c7-5469-4ebb-8bde-df50cfee7923",
   "metadata": {},
   "outputs": [],
   "source": [
    "# link_list"
   ]
  },
  {
   "cell_type": "code",
   "execution_count": 22,
   "id": "aa5e2225-dc98-425c-9419-b26fa3df4ef9",
   "metadata": {},
   "outputs": [],
   "source": [
    "# there are only 25 links here that are classified as trending"
   ]
  },
  {
   "cell_type": "markdown",
   "id": "9443c857-67b2-4c38-becd-0d3c084418ae",
   "metadata": {},
   "source": [
    "---"
   ]
  },
  {
   "cell_type": "markdown",
   "id": "2f0a3f7b-8a44-4c88-8418-3ea0c8a6205d",
   "metadata": {},
   "source": [
    "Most forked"
   ]
  },
  {
   "cell_type": "code",
   "execution_count": 23,
   "id": "d706153c-14b1-4fc8-965f-8586c456a0ca",
   "metadata": {},
   "outputs": [],
   "source": [
    "# url = 'https://github.com/search?o=desc&p=1&q=stars%3A%3E1&s=forks&type=Repositories'"
   ]
  },
  {
   "cell_type": "code",
   "execution_count": 24,
   "id": "f620f7f1-4a44-4182-a104-68d77e30be6a",
   "metadata": {},
   "outputs": [],
   "source": [
    "# # get first page\n",
    "# response = requests.get(url, headers={\"user-agent\": \"Codeup DS\"})\n",
    "# soup = BeautifulSoup(response.text)"
   ]
  },
  {
   "cell_type": "code",
   "execution_count": 25,
   "id": "a5624c11-7d8f-4bd2-ae88-a02353d1f42b",
   "metadata": {},
   "outputs": [],
   "source": [
    "# len(soup.select('.repo-list-item'))"
   ]
  },
  {
   "cell_type": "code",
   "execution_count": 26,
   "id": "c7f6b03a-01b7-4fe9-bd72-5722ab86e53c",
   "metadata": {},
   "outputs": [],
   "source": [
    "# cards = soup.select('.repo-list-item')"
   ]
  },
  {
   "cell_type": "code",
   "execution_count": 27,
   "id": "829fa3af-eb3e-45ac-accc-5854d915df8a",
   "metadata": {},
   "outputs": [],
   "source": [
    "# len(cards)"
   ]
  },
  {
   "cell_type": "code",
   "execution_count": 28,
   "id": "7e30dcee-3fbf-470c-9298-628aa963a9e6",
   "metadata": {},
   "outputs": [],
   "source": [
    "# cards[0].select_one('.v-align-middle').attrs['href']"
   ]
  },
  {
   "cell_type": "code",
   "execution_count": 29,
   "id": "4af0b801-340c-4839-a314-de397a1a9abc",
   "metadata": {},
   "outputs": [],
   "source": [
    "# link_list = []\n",
    "# for card in cards:\n",
    "#     link = card.select_one('.v-align-middle').attrs['href']\n",
    "#     link_list.append(link)"
   ]
  },
  {
   "cell_type": "code",
   "execution_count": 30,
   "id": "dd3b9c5f-c653-45d1-bc1e-5f94d6ef0b3e",
   "metadata": {},
   "outputs": [],
   "source": [
    "# link_list"
   ]
  },
  {
   "cell_type": "code",
   "execution_count": 31,
   "id": "4ec8c447-b07b-4bdb-a844-321fcc4375bf",
   "metadata": {},
   "outputs": [],
   "source": [
    "# # get 10 pages\n",
    "# url = 'https://github.com/search?o=desc&p={}&q=stars%3A%3E1&s=forks&type=Repositories'"
   ]
  },
  {
   "cell_type": "code",
   "execution_count": 32,
   "id": "b76b4e7a-f3c1-4f6b-a2f5-5e9c4bc0e772",
   "metadata": {},
   "outputs": [],
   "source": [
    "# url = url.format(1)"
   ]
  },
  {
   "cell_type": "code",
   "execution_count": 33,
   "id": "69b3dfd1-e14f-4369-b3f0-1dada479238b",
   "metadata": {},
   "outputs": [],
   "source": [
    "# url"
   ]
  },
  {
   "cell_type": "code",
   "execution_count": 34,
   "id": "e4732a9f-a1ea-4c11-9038-f0e9c7419eb8",
   "metadata": {},
   "outputs": [],
   "source": [
    "# response = requests.get(url, headers={\"user-agent\": \"Codeup DS\"})"
   ]
  },
  {
   "cell_type": "code",
   "execution_count": 35,
   "id": "7a7cf2a3-9849-422e-8bfe-6a7bdb3de0c2",
   "metadata": {},
   "outputs": [],
   "source": [
    "# response"
   ]
  },
  {
   "cell_type": "code",
   "execution_count": 36,
   "id": "2c522514-ac44-4938-b9e8-9439699f91ef",
   "metadata": {},
   "outputs": [],
   "source": [
    "# soup = BeautifulSoup(response.text)"
   ]
  },
  {
   "cell_type": "code",
   "execution_count": 37,
   "id": "7062ccad-bb31-4d2e-9ca3-6cd265ed25ca",
   "metadata": {},
   "outputs": [],
   "source": [
    "# cards = soup.select('.repo-list-item')"
   ]
  },
  {
   "cell_type": "code",
   "execution_count": 38,
   "id": "ed432d1c-28c6-4b24-a271-6f6f9c118a55",
   "metadata": {},
   "outputs": [],
   "source": [
    "# len(cards)"
   ]
  },
  {
   "cell_type": "code",
   "execution_count": 39,
   "id": "c19ebb2d-c3b7-42a7-88f3-498b8d608fca",
   "metadata": {},
   "outputs": [],
   "source": [
    "# link_list = []\n",
    "# for i in range(1,10):\n",
    "#     url = 'https://github.com/search?o=desc&p={}&q=stars%3A%3E1&s=forks&type=Repositories'\n",
    "#     url = url.format(i)\n",
    "#     response = requests.get(url, headers={\"user-agent\": \"Codeup DS\"})\n",
    "#     soup = BeautifulSoup(response.text)\n",
    "#     cards = soup.select('.repo-list-item')\n",
    "#     for card in cards:\n",
    "#         link = card.select_one('.v-align-middle').attrs['href']\n",
    "#         link_list.append(link)\n",
    "    "
   ]
  },
  {
   "cell_type": "code",
   "execution_count": 40,
   "id": "858b495a-9c85-46ba-acf0-69e0b89041f0",
   "metadata": {},
   "outputs": [],
   "source": [
    "# # this is the function that I used to get the top 500 most forked repos on github\n",
    "# from time import sleep\n",
    "# cards_list = []\n",
    "# link_list = []\n",
    "# for i in range(1,51):\n",
    "#     url = 'https://github.com/search?o=desc&p={}&q=stars%3A%3E1&s=forks&type=Repositories'\n",
    "#     url = url.format(i)\n",
    "#     response = requests.get(url, headers={\"user-agent\": \"Codeup\"})\n",
    "#     print(response.status_code)\n",
    "#     soup = BeautifulSoup(response.text)\n",
    "#     cards = soup.select('.repo-list-item')\n",
    "#     cards_list.append(cards)\n",
    "#     #print(i)\n",
    "#     #print(url)\n",
    "#     #print(len(cards))\n",
    "#     #print(len(cards_list))\n",
    "#     for card in cards:\n",
    "#         link = card.select_one('.v-align-middle').attrs['href']\n",
    "#         link_list.append(link)\n",
    "#     sleep(30)\n",
    "# [link[1:] for link in link_list]"
   ]
  },
  {
   "cell_type": "code",
   "execution_count": 41,
   "id": "28c2a013-753f-4a60-af25-91080e6c69b3",
   "metadata": {},
   "outputs": [],
   "source": [
    "# len(link_list)"
   ]
  },
  {
   "cell_type": "code",
   "execution_count": 42,
   "id": "4e6bbb10-c731-4fa2-8127-6295020f042a",
   "metadata": {},
   "outputs": [],
   "source": [
    "# link_list[0][1:]"
   ]
  },
  {
   "cell_type": "code",
   "execution_count": 43,
   "id": "27cedab9-35a6-4a00-a845-697a0cd931ad",
   "metadata": {},
   "outputs": [],
   "source": [
    "# [link[1:] for link in link_list]"
   ]
  },
  {
   "cell_type": "markdown",
   "id": "87bf27e1-19d2-4625-b1a9-bcef4d209da4",
   "metadata": {},
   "source": [
    "---"
   ]
  },
  {
   "cell_type": "code",
   "execution_count": 2,
   "id": "3eaa1a6a-8f79-4dea-b19d-a22048c2a0b3",
   "metadata": {},
   "outputs": [],
   "source": [
    "df = pd.read_json('data.json')"
   ]
  },
  {
   "cell_type": "code",
   "execution_count": 3,
   "id": "42643d85-efc0-43ba-82f5-2573b16446eb",
   "metadata": {},
   "outputs": [
    {
     "data": {
      "text/html": [
       "<div>\n",
       "<style scoped>\n",
       "    .dataframe tbody tr th:only-of-type {\n",
       "        vertical-align: middle;\n",
       "    }\n",
       "\n",
       "    .dataframe tbody tr th {\n",
       "        vertical-align: top;\n",
       "    }\n",
       "\n",
       "    .dataframe thead th {\n",
       "        text-align: right;\n",
       "    }\n",
       "</style>\n",
       "<table border=\"1\" class=\"dataframe\">\n",
       "  <thead>\n",
       "    <tr style=\"text-align: right;\">\n",
       "      <th></th>\n",
       "      <th>repo</th>\n",
       "      <th>language</th>\n",
       "      <th>readme_contents</th>\n",
       "    </tr>\n",
       "  </thead>\n",
       "  <tbody>\n",
       "    <tr>\n",
       "      <th>0</th>\n",
       "      <td>jtleek/datasharing</td>\n",
       "      <td>None</td>\n",
       "      <td>How to share data with a statistician\\n=======...</td>\n",
       "    </tr>\n",
       "    <tr>\n",
       "      <th>1</th>\n",
       "      <td>rdpeng/ProgrammingAssignment2</td>\n",
       "      <td>R</td>\n",
       "      <td>### Introduction\\n\\nThis second programming as...</td>\n",
       "    </tr>\n",
       "    <tr>\n",
       "      <th>2</th>\n",
       "      <td>octocat/Spoon-Knife</td>\n",
       "      <td>HTML</td>\n",
       "      <td>### Well hello there!\\n\\nThis repository is me...</td>\n",
       "    </tr>\n",
       "    <tr>\n",
       "      <th>3</th>\n",
       "      <td>tensorflow/tensorflow</td>\n",
       "      <td>C++</td>\n",
       "      <td>&lt;div align=\"center\"&gt;\\n  &lt;img src=\"https://www....</td>\n",
       "    </tr>\n",
       "    <tr>\n",
       "      <th>4</th>\n",
       "      <td>SmartThingsCommunity/SmartThingsPublic</td>\n",
       "      <td>Groovy</td>\n",
       "      <td># SmartThings Public GitHub Repo\\n\\nAn officia...</td>\n",
       "    </tr>\n",
       "  </tbody>\n",
       "</table>\n",
       "</div>"
      ],
      "text/plain": [
       "                                     repo language  \\\n",
       "0                      jtleek/datasharing     None   \n",
       "1           rdpeng/ProgrammingAssignment2        R   \n",
       "2                     octocat/Spoon-Knife     HTML   \n",
       "3                   tensorflow/tensorflow      C++   \n",
       "4  SmartThingsCommunity/SmartThingsPublic   Groovy   \n",
       "\n",
       "                                     readme_contents  \n",
       "0  How to share data with a statistician\\n=======...  \n",
       "1  ### Introduction\\n\\nThis second programming as...  \n",
       "2  ### Well hello there!\\n\\nThis repository is me...  \n",
       "3  <div align=\"center\">\\n  <img src=\"https://www....  \n",
       "4  # SmartThings Public GitHub Repo\\n\\nAn officia...  "
      ]
     },
     "execution_count": 3,
     "metadata": {},
     "output_type": "execute_result"
    }
   ],
   "source": [
    "df.head()"
   ]
  },
  {
   "cell_type": "code",
   "execution_count": 4,
   "id": "80a40710-0676-4e87-97c7-e2f2f877613f",
   "metadata": {},
   "outputs": [
    {
     "data": {
      "text/plain": [
       "(500, 3)"
      ]
     },
     "execution_count": 4,
     "metadata": {},
     "output_type": "execute_result"
    }
   ],
   "source": [
    "df.shape"
   ]
  },
  {
   "cell_type": "code",
   "execution_count": 5,
   "id": "47f73371-1e2b-45d6-ab4c-bb8409c80412",
   "metadata": {},
   "outputs": [
    {
     "data": {
      "text/plain": [
       "JavaScript          100\n",
       "Java                 77\n",
       "NaN                  60\n",
       "Python               54\n",
       "C++                  30\n",
       "Jupyter Notebook     26\n",
       "TypeScript           26\n",
       "Go                   19\n",
       "HTML                 16\n",
       "C                    15\n",
       "PHP                  12\n",
       "Ruby                 11\n",
       "Shell                 8\n",
       "Kotlin                5\n",
       "CSS                   5\n",
       "Swift                 4\n",
       "C#                    4\n",
       "Vue                   3\n",
       "Rascal                3\n",
       "Nix                   2\n",
       "R                     2\n",
       "Dart                  2\n",
       "Objective-C           2\n",
       "Scala                 2\n",
       "Dockerfile            1\n",
       "TeX                   1\n",
       "Less                  1\n",
       "PowerShell            1\n",
       "Groovy                1\n",
       "Vim script            1\n",
       "Nunjucks              1\n",
       "Assembly              1\n",
       "SCSS                  1\n",
       "ApacheConf            1\n",
       "Rich Text Format      1\n",
       "Rust                  1\n",
       "Name: language, dtype: int64"
      ]
     },
     "execution_count": 5,
     "metadata": {},
     "output_type": "execute_result"
    }
   ],
   "source": [
    "df.language.value_counts(dropna=False)"
   ]
  },
  {
   "cell_type": "code",
   "execution_count": 6,
   "id": "8e46cf6b-67a8-4478-a34c-4a7b32f79a6b",
   "metadata": {},
   "outputs": [
    {
     "data": {
      "text/plain": [
       "(500, 3)"
      ]
     },
     "execution_count": 6,
     "metadata": {},
     "output_type": "execute_result"
    }
   ],
   "source": [
    "df.shape"
   ]
  },
  {
   "cell_type": "code",
   "execution_count": 7,
   "id": "27d58ad4-2971-4748-828a-811bda19875a",
   "metadata": {},
   "outputs": [
    {
     "data": {
      "text/plain": [
       "repo                0\n",
       "language           60\n",
       "readme_contents     0\n",
       "dtype: int64"
      ]
     },
     "execution_count": 7,
     "metadata": {},
     "output_type": "execute_result"
    }
   ],
   "source": [
    "df.isna().sum()"
   ]
  },
  {
   "cell_type": "code",
   "execution_count": 8,
   "id": "2637b777-72f5-4f15-a6f7-f75b0b976341",
   "metadata": {},
   "outputs": [
    {
     "data": {
      "text/plain": [
       "(440, 3)"
      ]
     },
     "execution_count": 8,
     "metadata": {},
     "output_type": "execute_result"
    }
   ],
   "source": [
    "df.dropna().shape"
   ]
  },
  {
   "cell_type": "code",
   "execution_count": 9,
   "id": "8e035244-347e-4ae2-8768-cde3f7309eba",
   "metadata": {},
   "outputs": [],
   "source": [
    "df = p.prep_nlp(df, original_text_col='readme_contents')"
   ]
  },
  {
   "cell_type": "code",
   "execution_count": 10,
   "id": "72f20434-799e-4523-bd9b-d93eaf316a6f",
   "metadata": {},
   "outputs": [
    {
     "data": {
      "text/plain": [
       "(261, 6)"
      ]
     },
     "execution_count": 10,
     "metadata": {},
     "output_type": "execute_result"
    }
   ],
   "source": [
    "df.shape"
   ]
  },
  {
   "cell_type": "code",
   "execution_count": 82,
   "id": "ebba6c8c-dd93-42f4-b673-99b3fa02a1f0",
   "metadata": {},
   "outputs": [
    {
     "data": {
      "text/plain": [
       "JavaScript          100\n",
       "Java                 77\n",
       "Python               54\n",
       "C++                  30\n",
       "TypeScript           26\n",
       "Jupyter Notebook     26\n",
       "Go                   19\n",
       "HTML                 16\n",
       "C                    15\n",
       "PHP                  12\n",
       "Ruby                 11\n",
       "Shell                 8\n",
       "Kotlin                5\n",
       "CSS                   5\n",
       "C#                    4\n",
       "Swift                 4\n",
       "Rascal                3\n",
       "Vue                   3\n",
       "R                     2\n",
       "Nix                   2\n",
       "Scala                 2\n",
       "Objective-C           2\n",
       "Dart                  2\n",
       "TeX                   1\n",
       "Dockerfile            1\n",
       "Less                  1\n",
       "Rust                  1\n",
       "Nunjucks              1\n",
       "PowerShell            1\n",
       "Vim script            1\n",
       "SCSS                  1\n",
       "Groovy                1\n",
       "ApacheConf            1\n",
       "Assembly              1\n",
       "Rich Text Format      1\n",
       "Name: language, dtype: int64"
      ]
     },
     "execution_count": 82,
     "metadata": {},
     "output_type": "execute_result"
    }
   ],
   "source": [
    "df.language.value_counts()"
   ]
  },
  {
   "cell_type": "code",
   "execution_count": 83,
   "id": "5fe5acb3-7f42-4747-bbb2-876f9d335334",
   "metadata": {},
   "outputs": [],
   "source": [
    "# # need to lump all except top 4 as other\n",
    "# top4 = ['JavaScript', 'Java', 'Python', 'C++']\n",
    "# np.where((df['language'] if not in top4), 'Other', df['language'])\n",
    "# # couldn't get npwhere to work with in operator"
   ]
  },
  {
   "cell_type": "code",
   "execution_count": 84,
   "id": "30c9c3cf-f545-4ead-8c61-c0df3b8147b9",
   "metadata": {},
   "outputs": [],
   "source": [
    "# df['county'] = df['fips'].apply(lambda x: 'Los Angeles' if x == 6037 else 'Orange' if x == 6059 else 'Ventura') # convert to county names"
   ]
  },
  {
   "cell_type": "code",
   "execution_count": 85,
   "id": "e4917bd6-893c-4749-9be3-c9255c0c7e30",
   "metadata": {},
   "outputs": [],
   "source": [
    "top4 = ['JavaScript', 'Java', 'Python', 'C++']\n",
    "df.language = df.language.apply(lambda x: 'Other' if x not in top4 else x)"
   ]
  },
  {
   "cell_type": "code",
   "execution_count": null,
   "id": "de6b7bf1-83db-4639-b4c1-f579897b206b",
   "metadata": {},
   "outputs": [],
   "source": [
    "# instead of lumping, let's just drop all others"
   ]
  },
  {
   "cell_type": "code",
   "execution_count": 86,
   "id": "8b63f031-956b-48c2-b8e0-827c988165df",
   "metadata": {},
   "outputs": [
    {
     "data": {
      "text/plain": [
       "Other         179\n",
       "JavaScript    100\n",
       "Java           77\n",
       "Python         54\n",
       "C++            30\n",
       "Name: language, dtype: int64"
      ]
     },
     "execution_count": 86,
     "metadata": {},
     "output_type": "execute_result"
    }
   ],
   "source": [
    "df.language.value_counts()"
   ]
  },
  {
   "cell_type": "code",
   "execution_count": 92,
   "id": "90392d57-2b50-4d9b-aa17-adb7995ea5db",
   "metadata": {},
   "outputs": [
    {
     "data": {
      "text/plain": [
       "(440, 6)"
      ]
     },
     "execution_count": 92,
     "metadata": {},
     "output_type": "execute_result"
    }
   ],
   "source": [
    "df.shape"
   ]
  },
  {
   "cell_type": "code",
   "execution_count": 94,
   "id": "90395955-6f2b-4e00-b5c7-9aa680a1ead4",
   "metadata": {},
   "outputs": [],
   "source": [
    "df = df[df.language != 'Other']"
   ]
  },
  {
   "cell_type": "code",
   "execution_count": 95,
   "id": "a38e95bf-0a04-4719-b214-dd9d93dd2480",
   "metadata": {},
   "outputs": [
    {
     "data": {
      "text/plain": [
       "(261, 6)"
      ]
     },
     "execution_count": 95,
     "metadata": {},
     "output_type": "execute_result"
    }
   ],
   "source": [
    "df.shape"
   ]
  },
  {
   "cell_type": "code",
   "execution_count": 87,
   "id": "74aedf4b-b06c-49bf-ad97-47118ee6e824",
   "metadata": {},
   "outputs": [],
   "source": [
    "def split_readme(df):\n",
    "    '''\n",
    "    This function takes in a df and splits it into train, validate, and test dfs\n",
    "    final proportions will be 60/20/20 for train/validate/test\n",
    "    '''\n",
    "    train_validate, test = train_test_split(df, test_size=.2, random_state=123, stratify=df.language)\n",
    "    train, validate = train_test_split(train_validate, test_size=.25, random_state=123, stratify=train_validate.language)\n",
    "    return train, validate, test"
   ]
  },
  {
   "cell_type": "code",
   "execution_count": 88,
   "id": "4ca4ceaf-0bf3-41a8-ba94-945d4ddf0c5c",
   "metadata": {},
   "outputs": [],
   "source": [
    "train, validate, text = p.split_readme(df)"
   ]
  },
  {
   "cell_type": "code",
   "execution_count": 89,
   "id": "7d10fc7b-10b5-4e0e-8935-8ed23a0d3116",
   "metadata": {},
   "outputs": [
    {
     "data": {
      "text/plain": [
       "((264, 6), (88, 6), (88, 6))"
      ]
     },
     "execution_count": 89,
     "metadata": {},
     "output_type": "execute_result"
    }
   ],
   "source": [
    "train.shape, validate.shape, text.shape"
   ]
  },
  {
   "cell_type": "code",
   "execution_count": null,
   "id": "7d889ba1-354e-4125-a610-419b52dcadb8",
   "metadata": {},
   "outputs": [],
   "source": []
  },
  {
   "cell_type": "code",
   "execution_count": 11,
   "id": "a98569cb-8645-4b3d-9e28-8fe4ca6df8e3",
   "metadata": {},
   "outputs": [],
   "source": [
    "df = pd.read_json('data.json')"
   ]
  },
  {
   "cell_type": "code",
   "execution_count": 12,
   "id": "4345974d-3890-4eb0-bc1d-e97a726fddc6",
   "metadata": {},
   "outputs": [
    {
     "data": {
      "text/plain": [
       "(500, 3)"
      ]
     },
     "execution_count": 12,
     "metadata": {},
     "output_type": "execute_result"
    }
   ],
   "source": [
    "df.shape"
   ]
  },
  {
   "cell_type": "code",
   "execution_count": 13,
   "id": "f9c1144c-49f3-4edf-8aed-9b9695517ad8",
   "metadata": {},
   "outputs": [
    {
     "data": {
      "text/plain": [
       "JavaScript          100\n",
       "Java                 77\n",
       "Python               54\n",
       "C++                  30\n",
       "TypeScript           26\n",
       "Jupyter Notebook     26\n",
       "Go                   19\n",
       "HTML                 16\n",
       "C                    15\n",
       "PHP                  12\n",
       "Ruby                 11\n",
       "Shell                 8\n",
       "CSS                   5\n",
       "Kotlin                5\n",
       "C#                    4\n",
       "Swift                 4\n",
       "Rascal                3\n",
       "Vue                   3\n",
       "R                     2\n",
       "Nix                   2\n",
       "Dart                  2\n",
       "Objective-C           2\n",
       "Scala                 2\n",
       "ApacheConf            1\n",
       "Vim script            1\n",
       "TeX                   1\n",
       "Groovy                1\n",
       "PowerShell            1\n",
       "Less                  1\n",
       "Dockerfile            1\n",
       "Rich Text Format      1\n",
       "Nunjucks              1\n",
       "Assembly              1\n",
       "SCSS                  1\n",
       "Rust                  1\n",
       "Name: language, dtype: int64"
      ]
     },
     "execution_count": 13,
     "metadata": {},
     "output_type": "execute_result"
    }
   ],
   "source": [
    "df.language.value_counts()"
   ]
  },
  {
   "cell_type": "code",
   "execution_count": 14,
   "id": "d9725b75-0d97-4648-a88d-b4094ce5a342",
   "metadata": {},
   "outputs": [],
   "source": [
    "df = p.prep_nlp(df, original_text_col='readme_contents')"
   ]
  },
  {
   "cell_type": "code",
   "execution_count": 16,
   "id": "3e759078-1da3-46ad-b6ee-0e25af4de5d6",
   "metadata": {},
   "outputs": [
    {
     "data": {
      "text/plain": [
       "JavaScript    100\n",
       "Java           77\n",
       "Python         54\n",
       "C++            30\n",
       "Name: language, dtype: int64"
      ]
     },
     "execution_count": 16,
     "metadata": {},
     "output_type": "execute_result"
    }
   ],
   "source": [
    "df.language.value_counts()"
   ]
  },
  {
   "cell_type": "code",
   "execution_count": 17,
   "id": "04e3b2b5-e1e4-4343-8487-4e7ca2029b74",
   "metadata": {},
   "outputs": [
    {
     "name": "stdout",
     "output_type": "stream",
     "text": [
      "Train Proportion: 0.60 (156 rows)\n",
      "Validate Proportion: 0.20 (52 rows)    \n",
      "Test Proportion: 0.20 (53 rows)\n"
     ]
    }
   ],
   "source": [
    "train, validate, test = p.split_readme(df)"
   ]
  },
  {
   "cell_type": "code",
   "execution_count": null,
   "id": "ea835593-a6a8-4c88-ade8-43dcbf5f00eb",
   "metadata": {},
   "outputs": [],
   "source": []
  }
 ],
 "metadata": {
  "kernelspec": {
   "display_name": "Python 3",
   "language": "python",
   "name": "python3"
  },
  "language_info": {
   "codemirror_mode": {
    "name": "ipython",
    "version": 3
   },
   "file_extension": ".py",
   "mimetype": "text/x-python",
   "name": "python",
   "nbconvert_exporter": "python",
   "pygments_lexer": "ipython3",
   "version": "3.8.8"
  }
 },
 "nbformat": 4,
 "nbformat_minor": 5
}
