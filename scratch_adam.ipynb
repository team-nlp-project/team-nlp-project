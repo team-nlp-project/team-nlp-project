{
 "cells": [
  {
   "cell_type": "code",
   "execution_count": 1,
   "id": "6b06d615-9b8f-488b-90b9-210db0e3dc30",
   "metadata": {},
   "outputs": [],
   "source": [
    "import requests\n",
    "from bs4 import BeautifulSoup\n",
    "import pandas as pd\n",
    "from time import strftime\n",
    "import numpy as np\n",
    "\n",
    "import scrape_url_list as s\n",
    "import acquire as a\n",
    "\n",
    "# ignore warnings\n",
    "import warnings\n",
    "warnings.filterwarnings(\"ignore\")"
   ]
  },
  {
   "cell_type": "markdown",
   "id": "b2eb5c54-53ee-4b0e-95ec-782db841e650",
   "metadata": {},
   "source": [
    "---"
   ]
  },
  {
   "cell_type": "code",
   "execution_count": 2,
   "id": "203d22c2-cc35-4b53-bae6-537fa74f8369",
   "metadata": {},
   "outputs": [],
   "source": [
    "links = s.get_cached_links()"
   ]
  },
  {
   "cell_type": "code",
   "execution_count": 3,
   "id": "7021c39a-536d-4991-830d-b35b6d33f7c4",
   "metadata": {},
   "outputs": [],
   "source": [
    "links = links[:-2]"
   ]
  },
  {
   "cell_type": "markdown",
   "id": "5e6c824e-99f0-4bd0-b671-8eec5afa8cdb",
   "metadata": {},
   "source": [
    "---"
   ]
  },
  {
   "cell_type": "code",
   "execution_count": 4,
   "id": "6ba72a39-9a78-45a6-bb76-6c4bd3ba8fb5",
   "metadata": {},
   "outputs": [],
   "source": [
    "link_list = []\n",
    "for link in links:\n",
    "    response = requests.get(link, headers={\"user-agent\": \"Codeup DS\"})\n",
    "    link_list.append({'link' : link, 'status_code' : response.status_code})"
   ]
  },
  {
   "cell_type": "code",
   "execution_count": 5,
   "id": "ecc85927-f745-45ac-9682-29c23cb32206",
   "metadata": {},
   "outputs": [],
   "source": [
    "df = pd.DataFrame(link_list)"
   ]
  },
  {
   "cell_type": "code",
   "execution_count": 6,
   "id": "5615e996-dee9-4a92-9625-ccede2538c5a",
   "metadata": {},
   "outputs": [
    {
     "data": {
      "text/html": [
       "<div>\n",
       "<style scoped>\n",
       "    .dataframe tbody tr th:only-of-type {\n",
       "        vertical-align: middle;\n",
       "    }\n",
       "\n",
       "    .dataframe tbody tr th {\n",
       "        vertical-align: top;\n",
       "    }\n",
       "\n",
       "    .dataframe thead th {\n",
       "        text-align: right;\n",
       "    }\n",
       "</style>\n",
       "<table border=\"1\" class=\"dataframe\">\n",
       "  <thead>\n",
       "    <tr style=\"text-align: right;\">\n",
       "      <th></th>\n",
       "      <th>link</th>\n",
       "      <th>status_code</th>\n",
       "    </tr>\n",
       "  </thead>\n",
       "  <tbody>\n",
       "    <tr>\n",
       "      <th>0</th>\n",
       "      <td>https://github.com/josephmisiti/awesome-machin...</td>\n",
       "      <td>200</td>\n",
       "    </tr>\n",
       "    <tr>\n",
       "      <th>1</th>\n",
       "      <td>https://github.com/microsoft/ML-For-Beginners</td>\n",
       "      <td>200</td>\n",
       "    </tr>\n",
       "    <tr>\n",
       "      <th>2</th>\n",
       "      <td>https://github.com/bfortuner/ml-glossary</td>\n",
       "      <td>200</td>\n",
       "    </tr>\n",
       "    <tr>\n",
       "      <th>3</th>\n",
       "      <td>https://github.com/trekhleb/homemade-machine-l...</td>\n",
       "      <td>200</td>\n",
       "    </tr>\n",
       "    <tr>\n",
       "      <th>4</th>\n",
       "      <td>https://github.com/dangkhoasdc/awesome-ai-resi...</td>\n",
       "      <td>200</td>\n",
       "    </tr>\n",
       "  </tbody>\n",
       "</table>\n",
       "</div>"
      ],
      "text/plain": [
       "                                                link  status_code\n",
       "0  https://github.com/josephmisiti/awesome-machin...          200\n",
       "1      https://github.com/microsoft/ML-For-Beginners          200\n",
       "2           https://github.com/bfortuner/ml-glossary          200\n",
       "3  https://github.com/trekhleb/homemade-machine-l...          200\n",
       "4  https://github.com/dangkhoasdc/awesome-ai-resi...          200"
      ]
     },
     "execution_count": 6,
     "metadata": {},
     "output_type": "execute_result"
    }
   ],
   "source": [
    "df.head()"
   ]
  },
  {
   "cell_type": "code",
   "execution_count": 7,
   "id": "29cd3d3f-1b80-451d-94dc-37d00716fd5f",
   "metadata": {},
   "outputs": [
    {
     "data": {
      "text/html": [
       "<div>\n",
       "<style scoped>\n",
       "    .dataframe tbody tr th:only-of-type {\n",
       "        vertical-align: middle;\n",
       "    }\n",
       "\n",
       "    .dataframe tbody tr th {\n",
       "        vertical-align: top;\n",
       "    }\n",
       "\n",
       "    .dataframe thead th {\n",
       "        text-align: right;\n",
       "    }\n",
       "</style>\n",
       "<table border=\"1\" class=\"dataframe\">\n",
       "  <thead>\n",
       "    <tr style=\"text-align: right;\">\n",
       "      <th></th>\n",
       "      <th>link</th>\n",
       "      <th>status_code</th>\n",
       "    </tr>\n",
       "  </thead>\n",
       "  <tbody>\n",
       "  </tbody>\n",
       "</table>\n",
       "</div>"
      ],
      "text/plain": [
       "Empty DataFrame\n",
       "Columns: [link, status_code]\n",
       "Index: []"
      ]
     },
     "execution_count": 7,
     "metadata": {},
     "output_type": "execute_result"
    }
   ],
   "source": [
    "df[df.status_code != 200]"
   ]
  },
  {
   "cell_type": "markdown",
   "id": "e6c4fd69-3b64-41db-ae9e-dc29c05249b7",
   "metadata": {},
   "source": [
    "#### Takeaways from acquire:\n",
    "- The urls were fine when making requests, all returned status code of 200\n",
    "- But when I tried to use Zach's acquire module to get the needed content, 5 links returned `404` errors\n",
    "    - Still not sure exaxtly why, but must have to do with the scopes associated with my personal access token and auther permissions or someting\n",
    "    - Here are the ones that didn't work:\n",
    "        - `aikorea/awesome-rl/`\n",
    "        - `JoseDeFreitas/awesome-youtubers#machine-learning`\n",
    "        - `Developer-Y/cs-video-courses#artificial-intelligence`\n",
    "        - `Vedenin/useful-java-links#ii-databases-search-engines-big-data-and-machine-learning`\n",
    "        - `alirezadir/machine-learning-interview-enlightener/blob/main/README.md`"
   ]
  },
  {
   "cell_type": "code",
   "execution_count": 9,
   "id": "e2d7fc04-0e3a-474a-a7c3-7f7c219da277",
   "metadata": {},
   "outputs": [],
   "source": [
    "df = pd.read_json('data.json')"
   ]
  },
  {
   "cell_type": "code",
   "execution_count": 10,
   "id": "dcd37a03-831c-4e71-9425-7aa7c5c02ca2",
   "metadata": {},
   "outputs": [
    {
     "data": {
      "text/html": [
       "<div>\n",
       "<style scoped>\n",
       "    .dataframe tbody tr th:only-of-type {\n",
       "        vertical-align: middle;\n",
       "    }\n",
       "\n",
       "    .dataframe tbody tr th {\n",
       "        vertical-align: top;\n",
       "    }\n",
       "\n",
       "    .dataframe thead th {\n",
       "        text-align: right;\n",
       "    }\n",
       "</style>\n",
       "<table border=\"1\" class=\"dataframe\">\n",
       "  <thead>\n",
       "    <tr style=\"text-align: right;\">\n",
       "      <th></th>\n",
       "      <th>repo</th>\n",
       "      <th>language</th>\n",
       "      <th>readme_contents</th>\n",
       "    </tr>\n",
       "  </thead>\n",
       "  <tbody>\n",
       "    <tr>\n",
       "      <th>0</th>\n",
       "      <td>codingXiaxw/CustomerManagement</td>\n",
       "      <td>Java</td>\n",
       "      <td>## JavaWeb项目之客户管理系统 \\n\\n## 项目介绍\\n详细讲解请点击这里前往我的...</td>\n",
       "    </tr>\n",
       "    <tr>\n",
       "      <th>1</th>\n",
       "      <td>DanWahlin/CustomerManager</td>\n",
       "      <td>JavaScript</td>\n",
       "      <td>Customer Manager with AngularJS (with custom r...</td>\n",
       "    </tr>\n",
       "    <tr>\n",
       "      <th>2</th>\n",
       "      <td>Tophold/FinancialCustomerView</td>\n",
       "      <td>Java</td>\n",
       "      <td>## FinancialCustomerView\\n* 本项目会对金融交易软件中存在的各种V...</td>\n",
       "    </tr>\n",
       "    <tr>\n",
       "      <th>3</th>\n",
       "      <td>DanWahlin/CustomerManagerStandard</td>\n",
       "      <td>JavaScript</td>\n",
       "      <td>Customer Manager with AngularJS\\r\\n===========...</td>\n",
       "    </tr>\n",
       "    <tr>\n",
       "      <th>4</th>\n",
       "      <td>spring-cloud-samples/customers-stores</td>\n",
       "      <td>Java</td>\n",
       "      <td># REST based micro-services sample\\n\\n- Three ...</td>\n",
       "    </tr>\n",
       "  </tbody>\n",
       "</table>\n",
       "</div>"
      ],
      "text/plain": [
       "                                    repo    language  \\\n",
       "0         codingXiaxw/CustomerManagement        Java   \n",
       "1              DanWahlin/CustomerManager  JavaScript   \n",
       "2          Tophold/FinancialCustomerView        Java   \n",
       "3      DanWahlin/CustomerManagerStandard  JavaScript   \n",
       "4  spring-cloud-samples/customers-stores        Java   \n",
       "\n",
       "                                     readme_contents  \n",
       "0  ## JavaWeb项目之客户管理系统 \\n\\n## 项目介绍\\n详细讲解请点击这里前往我的...  \n",
       "1  Customer Manager with AngularJS (with custom r...  \n",
       "2  ## FinancialCustomerView\\n* 本项目会对金融交易软件中存在的各种V...  \n",
       "3  Customer Manager with AngularJS\\r\\n===========...  \n",
       "4  # REST based micro-services sample\\n\\n- Three ...  "
      ]
     },
     "execution_count": 10,
     "metadata": {},
     "output_type": "execute_result"
    }
   ],
   "source": [
    "df.head()"
   ]
  },
  {
   "cell_type": "code",
   "execution_count": 11,
   "id": "4991ccc5-e736-4df1-9015-3fc5f1b6a3ca",
   "metadata": {},
   "outputs": [
    {
     "data": {
      "text/plain": [
       "(194, 3)"
      ]
     },
     "execution_count": 11,
     "metadata": {},
     "output_type": "execute_result"
    }
   ],
   "source": [
    "df.shape"
   ]
  },
  {
   "cell_type": "code",
   "execution_count": 12,
   "id": "977f7e6c-cac8-4c4a-a3a6-4bd035444690",
   "metadata": {},
   "outputs": [
    {
     "data": {
      "text/plain": [
       "PHP                 41\n",
       "Jupyter Notebook    32\n",
       "JavaScript          25\n",
       "Java                23\n",
       "Python              20\n",
       "C#                  12\n",
       "NaN                  7\n",
       "TypeScript           4\n",
       "HTML                 4\n",
       "R                    4\n",
       "Ruby                 3\n",
       "Go                   3\n",
       "Vue                  3\n",
       "CSS                  2\n",
       "HCL                  2\n",
       "Dart                 2\n",
       "PowerShell           2\n",
       "Objective-C          1\n",
       "Shell                1\n",
       "ABAP                 1\n",
       "Scala                1\n",
       "Swift                1\n",
       "Name: language, dtype: int64"
      ]
     },
     "execution_count": 12,
     "metadata": {},
     "output_type": "execute_result"
    }
   ],
   "source": [
    "df.language.value_counts(dropna=False)"
   ]
  },
  {
   "cell_type": "code",
   "execution_count": 70,
   "id": "ce4ac40f-6f75-4600-ad19-20b68825b18d",
   "metadata": {},
   "outputs": [],
   "source": [
    "# df.loc[0 ,'readme_contents']"
   ]
  },
  {
   "cell_type": "markdown",
   "id": "912abbfb-bbd8-46d3-9871-a49163deae12",
   "metadata": {},
   "source": [
    "---"
   ]
  },
  {
   "cell_type": "markdown",
   "id": "ef803523-8ca0-48aa-8371-63f6da073ca2",
   "metadata": {},
   "source": [
    "Get some new links"
   ]
  },
  {
   "cell_type": "code",
   "execution_count": 13,
   "id": "b536b5cb-a564-42d7-a801-03c01bb9b00b",
   "metadata": {},
   "outputs": [],
   "source": [
    "response = requests.get('https://github.com/trending', headers={\"user-agent\": \"Codeup DS\"})\n",
    "soup = BeautifulSoup(response.text)"
   ]
  },
  {
   "cell_type": "code",
   "execution_count": 16,
   "id": "93b8670f-e204-48fc-b89b-1dab1943d6b9",
   "metadata": {},
   "outputs": [
    {
     "data": {
      "text/plain": [
       "25"
      ]
     },
     "execution_count": 16,
     "metadata": {},
     "output_type": "execute_result"
    }
   ],
   "source": [
    "len(soup.select('.Box-row'))"
   ]
  },
  {
   "cell_type": "code",
   "execution_count": 23,
   "id": "1d0d8f2a-6c45-45c2-9e01-d0d9cc5e440e",
   "metadata": {},
   "outputs": [
    {
     "data": {
      "text/plain": [
       "['', '', '', '']"
      ]
     },
     "execution_count": 23,
     "metadata": {},
     "output_type": "execute_result"
    }
   ],
   "source": [
    "[link.attrs['href'] for link in soup.select_one('.Box').select('a')]"
   ]
  },
  {
   "cell_type": "code",
   "execution_count": 24,
   "id": "f3b3edf7-fa46-49e4-8e7d-d3665c4f6500",
   "metadata": {},
   "outputs": [],
   "source": [
    "# soup.select_one('.Box').select('a')"
   ]
  },
  {
   "cell_type": "code",
   "execution_count": 48,
   "id": "4481fcf7-83a1-41e9-bd59-eea8c1c3d116",
   "metadata": {},
   "outputs": [
    {
     "data": {
      "text/plain": [
       "'/github/copilot.vim'"
      ]
     },
     "execution_count": 48,
     "metadata": {},
     "output_type": "execute_result"
    }
   ],
   "source": [
    "soup.select('.Box-row')[0].select_one('.h3.lh-condensed').a.attrs['href']"
   ]
  },
  {
   "cell_type": "code",
   "execution_count": 49,
   "id": "c03c5714-7faa-445f-9822-c0fdaf201a79",
   "metadata": {},
   "outputs": [],
   "source": [
    "boxes = soup.select('.Box-row')"
   ]
  },
  {
   "cell_type": "code",
   "execution_count": 51,
   "id": "5877f901-22c1-4ba1-adb1-41874e47f389",
   "metadata": {},
   "outputs": [
    {
     "data": {
      "text/plain": [
       "25"
      ]
     },
     "execution_count": 51,
     "metadata": {},
     "output_type": "execute_result"
    }
   ],
   "source": [
    "len(boxes)"
   ]
  },
  {
   "cell_type": "code",
   "execution_count": 52,
   "id": "11ec9e2c-0c58-4d14-83e3-0b9c781ddf11",
   "metadata": {},
   "outputs": [],
   "source": [
    "link_list = []\n",
    "for box in boxes:\n",
    "    link = box.select_one('.h3.lh-condensed').a.attrs['href']\n",
    "    link_list.append(link)"
   ]
  },
  {
   "cell_type": "code",
   "execution_count": 53,
   "id": "e8fcc1c7-5469-4ebb-8bde-df50cfee7923",
   "metadata": {},
   "outputs": [
    {
     "data": {
      "text/plain": [
       "['/github/copilot.vim',\n",
       " '/schollz/croc',\n",
       " '/arco-design/arco-design-vue',\n",
       " '/iterativv/NostalgiaForInfinity',\n",
       " '/WorkerLivesMatter/WorkingTime',\n",
       " '/ehn-dcc-development/hcert-spec',\n",
       " '/kon9chunkit/GitHub-Chinese-Top-Charts',\n",
       " '/vercel/next.js',\n",
       " '/github/copilot-docs',\n",
       " '/2point21/lba1-classic',\n",
       " '/shengcaishizhan/kkndme_tianya',\n",
       " '/2point21/lba2-classic',\n",
       " '/DouyinFE/semi-design',\n",
       " '/Leaflet/Leaflet',\n",
       " '/modern-js-dev/modern.js',\n",
       " '/devMEremenko/XcodeBenchmark',\n",
       " '/waldo-vision/optical-flow-demo',\n",
       " '/angular/components',\n",
       " '/projectdiscovery/nuclei-templates',\n",
       " '/onevcat/Kingfisher',\n",
       " '/czj2369/jd_tb_auto',\n",
       " '/mltframework/shotcut',\n",
       " '/arco-design/arco-design',\n",
       " '/jumpserver/jumpserver',\n",
       " '/tailwindlabs/headlessui']"
      ]
     },
     "execution_count": 53,
     "metadata": {},
     "output_type": "execute_result"
    }
   ],
   "source": [
    "link_list"
   ]
  },
  {
   "cell_type": "code",
   "execution_count": 54,
   "id": "aa5e2225-dc98-425c-9419-b26fa3df4ef9",
   "metadata": {},
   "outputs": [],
   "source": [
    "# there are only 25 links here that are classified as trending"
   ]
  },
  {
   "cell_type": "markdown",
   "id": "9443c857-67b2-4c38-becd-0d3c084418ae",
   "metadata": {},
   "source": [
    "---"
   ]
  },
  {
   "cell_type": "markdown",
   "id": "2f0a3f7b-8a44-4c88-8418-3ea0c8a6205d",
   "metadata": {},
   "source": [
    "Most forked"
   ]
  },
  {
   "cell_type": "code",
   "execution_count": 55,
   "id": "d706153c-14b1-4fc8-965f-8586c456a0ca",
   "metadata": {},
   "outputs": [],
   "source": [
    "url = 'https://github.com/search?o=desc&p=1&q=stars%3A%3E1&s=forks&type=Repositories'"
   ]
  },
  {
   "cell_type": "code",
   "execution_count": 57,
   "id": "f620f7f1-4a44-4182-a104-68d77e30be6a",
   "metadata": {},
   "outputs": [],
   "source": [
    "# get first page\n",
    "response = requests.get(url, headers={\"user-agent\": \"Codeup DS\"})\n",
    "soup = BeautifulSoup(response.text)"
   ]
  },
  {
   "cell_type": "code",
   "execution_count": 60,
   "id": "a5624c11-7d8f-4bd2-ae88-a02353d1f42b",
   "metadata": {},
   "outputs": [
    {
     "data": {
      "text/plain": [
       "10"
      ]
     },
     "execution_count": 60,
     "metadata": {},
     "output_type": "execute_result"
    }
   ],
   "source": [
    "len(soup.select('.repo-list-item'))"
   ]
  },
  {
   "cell_type": "code",
   "execution_count": 61,
   "id": "c7f6b03a-01b7-4fe9-bd72-5722ab86e53c",
   "metadata": {},
   "outputs": [],
   "source": [
    "cards = soup.select('.repo-list-item')"
   ]
  },
  {
   "cell_type": "code",
   "execution_count": 62,
   "id": "829fa3af-eb3e-45ac-accc-5854d915df8a",
   "metadata": {},
   "outputs": [
    {
     "data": {
      "text/plain": [
       "10"
      ]
     },
     "execution_count": 62,
     "metadata": {},
     "output_type": "execute_result"
    }
   ],
   "source": [
    "len(cards)"
   ]
  },
  {
   "cell_type": "code",
   "execution_count": 68,
   "id": "7e30dcee-3fbf-470c-9298-628aa963a9e6",
   "metadata": {},
   "outputs": [
    {
     "data": {
      "text/plain": [
       "'/jtleek/datasharing'"
      ]
     },
     "execution_count": 68,
     "metadata": {},
     "output_type": "execute_result"
    }
   ],
   "source": [
    "cards[0].select_one('.v-align-middle').attrs['href']"
   ]
  },
  {
   "cell_type": "code",
   "execution_count": 69,
   "id": "4af0b801-340c-4839-a314-de397a1a9abc",
   "metadata": {},
   "outputs": [],
   "source": [
    "link_list = []\n",
    "for card in cards:\n",
    "    link = card.select_one('.v-align-middle').attrs['href']\n",
    "    link_list.append(link)"
   ]
  },
  {
   "cell_type": "code",
   "execution_count": 70,
   "id": "dd3b9c5f-c653-45d1-bc1e-5f94d6ef0b3e",
   "metadata": {},
   "outputs": [
    {
     "data": {
      "text/plain": [
       "['/jtleek/datasharing',\n",
       " '/rdpeng/ProgrammingAssignment2',\n",
       " '/octocat/Spoon-Knife',\n",
       " '/tensorflow/tensorflow',\n",
       " '/twbs/bootstrap',\n",
       " '/github/gitignore',\n",
       " '/Pierian-Data/Complete-Python-3-Bootcamp',\n",
       " '/nightscout/cgm-remote-monitor',\n",
       " '/rdpeng/ExData_Plotting1',\n",
       " '/jwasham/coding-interview-university']"
      ]
     },
     "execution_count": 70,
     "metadata": {},
     "output_type": "execute_result"
    }
   ],
   "source": [
    "link_list"
   ]
  },
  {
   "cell_type": "code",
   "execution_count": 25,
   "id": "4ec8c447-b07b-4bdb-a844-321fcc4375bf",
   "metadata": {},
   "outputs": [],
   "source": [
    "# get 10 pages\n",
    "url = 'https://github.com/search?o=desc&p={}&q=stars%3A%3E1&s=forks&type=Repositories'"
   ]
  },
  {
   "cell_type": "code",
   "execution_count": 26,
   "id": "b76b4e7a-f3c1-4f6b-a2f5-5e9c4bc0e772",
   "metadata": {},
   "outputs": [],
   "source": [
    "url = url.format(1)"
   ]
  },
  {
   "cell_type": "code",
   "execution_count": 27,
   "id": "69b3dfd1-e14f-4369-b3f0-1dada479238b",
   "metadata": {},
   "outputs": [
    {
     "data": {
      "text/plain": [
       "'https://github.com/search?o=desc&p=1&q=stars%3A%3E1&s=forks&type=Repositories'"
      ]
     },
     "execution_count": 27,
     "metadata": {},
     "output_type": "execute_result"
    }
   ],
   "source": [
    "url"
   ]
  },
  {
   "cell_type": "code",
   "execution_count": 28,
   "id": "e4732a9f-a1ea-4c11-9038-f0e9c7419eb8",
   "metadata": {},
   "outputs": [],
   "source": [
    "response = requests.get(url, headers={\"user-agent\": \"Codeup DS\"})"
   ]
  },
  {
   "cell_type": "code",
   "execution_count": 29,
   "id": "7a7cf2a3-9849-422e-8bfe-6a7bdb3de0c2",
   "metadata": {},
   "outputs": [
    {
     "data": {
      "text/plain": [
       "<Response [200]>"
      ]
     },
     "execution_count": 29,
     "metadata": {},
     "output_type": "execute_result"
    }
   ],
   "source": [
    "response"
   ]
  },
  {
   "cell_type": "code",
   "execution_count": 30,
   "id": "2c522514-ac44-4938-b9e8-9439699f91ef",
   "metadata": {},
   "outputs": [],
   "source": [
    "soup = BeautifulSoup(response.text)"
   ]
  },
  {
   "cell_type": "code",
   "execution_count": 31,
   "id": "7062ccad-bb31-4d2e-9ca3-6cd265ed25ca",
   "metadata": {},
   "outputs": [],
   "source": [
    "cards = soup.select('.repo-list-item')"
   ]
  },
  {
   "cell_type": "code",
   "execution_count": 33,
   "id": "ed432d1c-28c6-4b24-a271-6f6f9c118a55",
   "metadata": {},
   "outputs": [
    {
     "data": {
      "text/plain": [
       "10"
      ]
     },
     "execution_count": 33,
     "metadata": {},
     "output_type": "execute_result"
    }
   ],
   "source": [
    "len(cards)"
   ]
  },
  {
   "cell_type": "code",
   "execution_count": 9,
   "id": "c19ebb2d-c3b7-42a7-88f3-498b8d608fca",
   "metadata": {},
   "outputs": [],
   "source": [
    "# link_list = []\n",
    "# for i in range(1,10):\n",
    "#     url = 'https://github.com/search?o=desc&p={}&q=stars%3A%3E1&s=forks&type=Repositories'\n",
    "#     url = url.format(i)\n",
    "#     response = requests.get(url, headers={\"user-agent\": \"Codeup DS\"})\n",
    "#     soup = BeautifulSoup(response.text)\n",
    "#     cards = soup.select('.repo-list-item')\n",
    "#     for card in cards:\n",
    "#         link = card.select_one('.v-align-middle').attrs['href']\n",
    "#         link_list.append(link)\n",
    "    "
   ]
  },
  {
   "cell_type": "code",
   "execution_count": 49,
   "id": "858b495a-9c85-46ba-acf0-69e0b89041f0",
   "metadata": {},
   "outputs": [
    {
     "name": "stdout",
     "output_type": "stream",
     "text": [
      "429\n",
      "429\n"
     ]
    },
    {
     "ename": "KeyboardInterrupt",
     "evalue": "",
     "output_type": "error",
     "traceback": [
      "\u001b[0;31m---------------------------------------------------------------------------\u001b[0m",
      "\u001b[0;31mKeyboardInterrupt\u001b[0m                         Traceback (most recent call last)",
      "\u001b[0;32m<ipython-input-49-f4c325f534d7>\u001b[0m in \u001b[0;36m<module>\u001b[0;34m\u001b[0m\n\u001b[1;32m     17\u001b[0m         \u001b[0mlink\u001b[0m \u001b[0;34m=\u001b[0m \u001b[0mcard\u001b[0m\u001b[0;34m.\u001b[0m\u001b[0mselect_one\u001b[0m\u001b[0;34m(\u001b[0m\u001b[0;34m'.v-align-middle'\u001b[0m\u001b[0;34m)\u001b[0m\u001b[0;34m.\u001b[0m\u001b[0mattrs\u001b[0m\u001b[0;34m[\u001b[0m\u001b[0;34m'href'\u001b[0m\u001b[0;34m]\u001b[0m\u001b[0;34m\u001b[0m\u001b[0;34m\u001b[0m\u001b[0m\n\u001b[1;32m     18\u001b[0m         \u001b[0mlink_list\u001b[0m\u001b[0;34m.\u001b[0m\u001b[0mappend\u001b[0m\u001b[0;34m(\u001b[0m\u001b[0mlink\u001b[0m\u001b[0;34m)\u001b[0m\u001b[0;34m\u001b[0m\u001b[0;34m\u001b[0m\u001b[0m\n\u001b[0;32m---> 19\u001b[0;31m     \u001b[0msleep\u001b[0m\u001b[0;34m(\u001b[0m\u001b[0;36m10\u001b[0m\u001b[0;34m)\u001b[0m\u001b[0;34m\u001b[0m\u001b[0;34m\u001b[0m\u001b[0m\n\u001b[0m",
      "\u001b[0;31mKeyboardInterrupt\u001b[0m: "
     ]
    }
   ],
   "source": [
    "from time import sleep\n",
    "cards_list = []\n",
    "link_list = []\n",
    "for i in range(1,51):\n",
    "    url = 'https://github.com/search?o=desc&p={}&q=stars%3A%3E1&s=forks&type=Repositories'\n",
    "    url = url.format(i)\n",
    "    response = requests.get(url, headers={\"user-agent\": \"Codeup DS\"})\n",
    "    print(response.status_code)\n",
    "    soup = BeautifulSoup(response.text)\n",
    "    cards = soup.select('.repo-list-item')\n",
    "    cards_list.append(cards)\n",
    "    #print(i)\n",
    "    #print(url)\n",
    "    #print(len(cards))\n",
    "    #print(len(cards_list))\n",
    "    for card in cards:\n",
    "        link = card.select_one('.v-align-middle').attrs['href']\n",
    "        link_list.append(link)\n",
    "    sleep(10)"
   ]
  },
  {
   "cell_type": "code",
   "execution_count": 46,
   "id": "28c2a013-753f-4a60-af25-91080e6c69b3",
   "metadata": {},
   "outputs": [
    {
     "data": {
      "text/plain": [
       "370"
      ]
     },
     "execution_count": 46,
     "metadata": {},
     "output_type": "execute_result"
    }
   ],
   "source": [
    "len(link_list)"
   ]
  },
  {
   "cell_type": "code",
   "execution_count": 50,
   "id": "a41fd39a-a56d-4a45-82da-9ba595712193",
   "metadata": {},
   "outputs": [
    {
     "data": {
      "text/plain": [
       "[]"
      ]
     },
     "execution_count": 50,
     "metadata": {},
     "output_type": "execute_result"
    }
   ],
   "source": [
    "link_list"
   ]
  },
  {
   "cell_type": "code",
   "execution_count": null,
   "id": "2761e8b8-cbc0-4fd0-a30a-d691f4090b62",
   "metadata": {},
   "outputs": [],
   "source": []
  }
 ],
 "metadata": {
  "kernelspec": {
   "display_name": "Python 3",
   "language": "python",
   "name": "python3"
  },
  "language_info": {
   "codemirror_mode": {
    "name": "ipython",
    "version": 3
   },
   "file_extension": ".py",
   "mimetype": "text/x-python",
   "name": "python",
   "nbconvert_exporter": "python",
   "pygments_lexer": "ipython3",
   "version": "3.8.8"
  }
 },
 "nbformat": 4,
 "nbformat_minor": 5
}
