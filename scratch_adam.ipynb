{
 "cells": [
  {
   "cell_type": "code",
   "execution_count": 54,
   "id": "6b06d615-9b8f-488b-90b9-210db0e3dc30",
   "metadata": {},
   "outputs": [],
   "source": [
    "import requests\n",
    "from bs4 import BeautifulSoup\n",
    "import pandas as pd\n",
    "from time import strftime\n",
    "import numpy as np\n",
    "\n",
    "import scrape_url_list as s\n",
    "import acquire as a\n",
    "\n",
    "# ignore warnings\n",
    "import warnings\n",
    "warnings.filterwarnings(\"ignore\")"
   ]
  },
  {
   "cell_type": "markdown",
   "id": "b2eb5c54-53ee-4b0e-95ec-782db841e650",
   "metadata": {},
   "source": [
    "---"
   ]
  },
  {
   "cell_type": "code",
   "execution_count": 55,
   "id": "203d22c2-cc35-4b53-bae6-537fa74f8369",
   "metadata": {},
   "outputs": [],
   "source": [
    "links = s.get_cached_links()"
   ]
  },
  {
   "cell_type": "code",
   "execution_count": 56,
   "id": "7021c39a-536d-4991-830d-b35b6d33f7c4",
   "metadata": {},
   "outputs": [],
   "source": [
    "links = links[:-2]"
   ]
  },
  {
   "cell_type": "markdown",
   "id": "5e6c824e-99f0-4bd0-b671-8eec5afa8cdb",
   "metadata": {},
   "source": [
    "---"
   ]
  },
  {
   "cell_type": "code",
   "execution_count": 57,
   "id": "6ba72a39-9a78-45a6-bb76-6c4bd3ba8fb5",
   "metadata": {},
   "outputs": [],
   "source": [
    "link_list = []\n",
    "for link in links:\n",
    "    response = requests.get(link, headers={\"user-agent\": \"Codeup DS\"})\n",
    "    link_list.append({'link' : link, 'status_code' : response.status_code})"
   ]
  },
  {
   "cell_type": "code",
   "execution_count": 58,
   "id": "ecc85927-f745-45ac-9682-29c23cb32206",
   "metadata": {},
   "outputs": [],
   "source": [
    "df = pd.DataFrame(link_list)"
   ]
  },
  {
   "cell_type": "code",
   "execution_count": 59,
   "id": "5615e996-dee9-4a92-9625-ccede2538c5a",
   "metadata": {},
   "outputs": [
    {
     "data": {
      "text/html": [
       "<div>\n",
       "<style scoped>\n",
       "    .dataframe tbody tr th:only-of-type {\n",
       "        vertical-align: middle;\n",
       "    }\n",
       "\n",
       "    .dataframe tbody tr th {\n",
       "        vertical-align: top;\n",
       "    }\n",
       "\n",
       "    .dataframe thead th {\n",
       "        text-align: right;\n",
       "    }\n",
       "</style>\n",
       "<table border=\"1\" class=\"dataframe\">\n",
       "  <thead>\n",
       "    <tr style=\"text-align: right;\">\n",
       "      <th></th>\n",
       "      <th>link</th>\n",
       "      <th>status_code</th>\n",
       "    </tr>\n",
       "  </thead>\n",
       "  <tbody>\n",
       "    <tr>\n",
       "      <th>0</th>\n",
       "      <td>https://github.com/josephmisiti/awesome-machin...</td>\n",
       "      <td>200</td>\n",
       "    </tr>\n",
       "    <tr>\n",
       "      <th>1</th>\n",
       "      <td>https://github.com/microsoft/ML-For-Beginners</td>\n",
       "      <td>200</td>\n",
       "    </tr>\n",
       "    <tr>\n",
       "      <th>2</th>\n",
       "      <td>https://github.com/bfortuner/ml-glossary</td>\n",
       "      <td>200</td>\n",
       "    </tr>\n",
       "    <tr>\n",
       "      <th>3</th>\n",
       "      <td>https://github.com/trekhleb/homemade-machine-l...</td>\n",
       "      <td>200</td>\n",
       "    </tr>\n",
       "    <tr>\n",
       "      <th>4</th>\n",
       "      <td>https://github.com/dangkhoasdc/awesome-ai-resi...</td>\n",
       "      <td>200</td>\n",
       "    </tr>\n",
       "  </tbody>\n",
       "</table>\n",
       "</div>"
      ],
      "text/plain": [
       "                                                link  status_code\n",
       "0  https://github.com/josephmisiti/awesome-machin...          200\n",
       "1      https://github.com/microsoft/ML-For-Beginners          200\n",
       "2           https://github.com/bfortuner/ml-glossary          200\n",
       "3  https://github.com/trekhleb/homemade-machine-l...          200\n",
       "4  https://github.com/dangkhoasdc/awesome-ai-resi...          200"
      ]
     },
     "execution_count": 59,
     "metadata": {},
     "output_type": "execute_result"
    }
   ],
   "source": [
    "df.head()"
   ]
  },
  {
   "cell_type": "code",
   "execution_count": 60,
   "id": "29cd3d3f-1b80-451d-94dc-37d00716fd5f",
   "metadata": {},
   "outputs": [
    {
     "data": {
      "text/html": [
       "<div>\n",
       "<style scoped>\n",
       "    .dataframe tbody tr th:only-of-type {\n",
       "        vertical-align: middle;\n",
       "    }\n",
       "\n",
       "    .dataframe tbody tr th {\n",
       "        vertical-align: top;\n",
       "    }\n",
       "\n",
       "    .dataframe thead th {\n",
       "        text-align: right;\n",
       "    }\n",
       "</style>\n",
       "<table border=\"1\" class=\"dataframe\">\n",
       "  <thead>\n",
       "    <tr style=\"text-align: right;\">\n",
       "      <th></th>\n",
       "      <th>link</th>\n",
       "      <th>status_code</th>\n",
       "    </tr>\n",
       "  </thead>\n",
       "  <tbody>\n",
       "  </tbody>\n",
       "</table>\n",
       "</div>"
      ],
      "text/plain": [
       "Empty DataFrame\n",
       "Columns: [link, status_code]\n",
       "Index: []"
      ]
     },
     "execution_count": 60,
     "metadata": {},
     "output_type": "execute_result"
    }
   ],
   "source": [
    "df[df.status_code != 200]"
   ]
  },
  {
   "cell_type": "markdown",
   "id": "e6c4fd69-3b64-41db-ae9e-dc29c05249b7",
   "metadata": {},
   "source": [
    "#### Takeaways from acquire:\n",
    "- The urls were fine when making requests, all returned status code of 200\n",
    "- But when I tried to use Zach's acquire module to get the needed content, 5 links returned `404` errors\n",
    "    - Still not sure exaxtly why, but must have to do with the scopes associated with my personal access token and auther permissions or someting\n",
    "    - Here are the ones that didn't work:\n",
    "        - `aikorea/awesome-rl/`\n",
    "        - `JoseDeFreitas/awesome-youtubers#machine-learning`\n",
    "        - `Developer-Y/cs-video-courses#artificial-intelligence`\n",
    "        - `Vedenin/useful-java-links#ii-databases-search-engines-big-data-and-machine-learning`\n",
    "        - `alirezadir/machine-learning-interview-enlightener/blob/main/README.md`"
   ]
  },
  {
   "cell_type": "code",
   "execution_count": 61,
   "id": "e2d7fc04-0e3a-474a-a7c3-7f7c219da277",
   "metadata": {},
   "outputs": [],
   "source": [
    "df = pd.read_json('data.json')"
   ]
  },
  {
   "cell_type": "code",
   "execution_count": 62,
   "id": "dcd37a03-831c-4e71-9425-7aa7c5c02ca2",
   "metadata": {},
   "outputs": [
    {
     "data": {
      "text/html": [
       "<div>\n",
       "<style scoped>\n",
       "    .dataframe tbody tr th:only-of-type {\n",
       "        vertical-align: middle;\n",
       "    }\n",
       "\n",
       "    .dataframe tbody tr th {\n",
       "        vertical-align: top;\n",
       "    }\n",
       "\n",
       "    .dataframe thead th {\n",
       "        text-align: right;\n",
       "    }\n",
       "</style>\n",
       "<table border=\"1\" class=\"dataframe\">\n",
       "  <thead>\n",
       "    <tr style=\"text-align: right;\">\n",
       "      <th></th>\n",
       "      <th>repo</th>\n",
       "      <th>language</th>\n",
       "      <th>readme_contents</th>\n",
       "    </tr>\n",
       "  </thead>\n",
       "  <tbody>\n",
       "    <tr>\n",
       "      <th>0</th>\n",
       "      <td>josephmisiti/awesome-machine-learning</td>\n",
       "      <td>Python</td>\n",
       "      <td># Awesome Machine Learning [![Awesome](https:/...</td>\n",
       "    </tr>\n",
       "    <tr>\n",
       "      <th>1</th>\n",
       "      <td>microsoft/ML-For-Beginners</td>\n",
       "      <td>Jupyter Notebook</td>\n",
       "      <td>[![GitHub license](https://img.shields.io/gith...</td>\n",
       "    </tr>\n",
       "    <tr>\n",
       "      <th>2</th>\n",
       "      <td>bfortuner/ml-glossary</td>\n",
       "      <td>Python</td>\n",
       "      <td># Machine Learning Glossary\\n\\n## Looking for ...</td>\n",
       "    </tr>\n",
       "    <tr>\n",
       "      <th>3</th>\n",
       "      <td>trekhleb/homemade-machine-learning</td>\n",
       "      <td>Jupyter Notebook</td>\n",
       "      <td># Homemade Machine Learning\\n\\n[![Binder](http...</td>\n",
       "    </tr>\n",
       "    <tr>\n",
       "      <th>4</th>\n",
       "      <td>dangkhoasdc/awesome-ai-residency</td>\n",
       "      <td>None</td>\n",
       "      <td># List of AI Residency Programs\\n\\n## All year...</td>\n",
       "    </tr>\n",
       "  </tbody>\n",
       "</table>\n",
       "</div>"
      ],
      "text/plain": [
       "                                    repo          language  \\\n",
       "0  josephmisiti/awesome-machine-learning            Python   \n",
       "1             microsoft/ML-For-Beginners  Jupyter Notebook   \n",
       "2                  bfortuner/ml-glossary            Python   \n",
       "3     trekhleb/homemade-machine-learning  Jupyter Notebook   \n",
       "4       dangkhoasdc/awesome-ai-residency              None   \n",
       "\n",
       "                                     readme_contents  \n",
       "0  # Awesome Machine Learning [![Awesome](https:/...  \n",
       "1  [![GitHub license](https://img.shields.io/gith...  \n",
       "2  # Machine Learning Glossary\\n\\n## Looking for ...  \n",
       "3  # Homemade Machine Learning\\n\\n[![Binder](http...  \n",
       "4  # List of AI Residency Programs\\n\\n## All year...  "
      ]
     },
     "execution_count": 62,
     "metadata": {},
     "output_type": "execute_result"
    }
   ],
   "source": [
    "df.head()"
   ]
  },
  {
   "cell_type": "code",
   "execution_count": 63,
   "id": "4991ccc5-e736-4df1-9015-3fc5f1b6a3ca",
   "metadata": {},
   "outputs": [
    {
     "data": {
      "text/plain": [
       "(141, 3)"
      ]
     },
     "execution_count": 63,
     "metadata": {},
     "output_type": "execute_result"
    }
   ],
   "source": [
    "df.shape"
   ]
  },
  {
   "cell_type": "code",
   "execution_count": null,
   "id": "977f7e6c-cac8-4c4a-a3a6-4bd035444690",
   "metadata": {},
   "outputs": [],
   "source": []
  }
 ],
 "metadata": {
  "kernelspec": {
   "display_name": "Python 3",
   "language": "python",
   "name": "python3"
  },
  "language_info": {
   "codemirror_mode": {
    "name": "ipython",
    "version": 3
   },
   "file_extension": ".py",
   "mimetype": "text/x-python",
   "name": "python",
   "nbconvert_exporter": "python",
   "pygments_lexer": "ipython3",
   "version": "3.8.8"
  }
 },
 "nbformat": 4,
 "nbformat_minor": 5
}
